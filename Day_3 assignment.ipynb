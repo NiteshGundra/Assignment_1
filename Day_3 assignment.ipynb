{
 "cells": [
  {
   "cell_type": "code",
   "execution_count": 6,
   "id": "17794f1f",
   "metadata": {},
   "outputs": [],
   "source": [
    "import pandas as pd"
   ]
  },
  {
   "cell_type": "code",
   "execution_count": 15,
   "id": "1f0043b8",
   "metadata": {},
   "outputs": [],
   "source": [
    "exp_string = \"this is a program expirement\"\n",
    "# creating a list with all lower case alphabets\n",
    "\n",
    "uni_code = []"
   ]
  },
  {
   "cell_type": "code",
   "execution_count": 24,
   "id": "f576e0f4",
   "metadata": {},
   "outputs": [
    {
     "name": "stdout",
     "output_type": "stream",
     "text": [
      "uhis is a program expiremenu\n"
     ]
    }
   ],
   "source": [
    "#ord(65)\n",
    "for i in exp_string:\n",
    "    if exp_string.count(i) >= 2:\n",
    "        dup_charecters = str(i)\n",
    "        \n",
    "        c = ord(i)\n",
    "        next_code = c+1\n",
    "        next_alpha = chr(next_code)\n",
    "        new_string = exp_string.replace(i, next_alpha)\n",
    "        \n",
    "print(new_string)"
   ]
  },
  {
   "cell_type": "code",
   "execution_count": 18,
   "id": "57156e0a",
   "metadata": {},
   "outputs": [
    {
     "data": {
      "text/plain": [
       "'t'"
      ]
     },
     "execution_count": 18,
     "metadata": {},
     "output_type": "execute_result"
    }
   ],
   "source": []
  }
 ],
 "metadata": {
  "kernelspec": {
   "display_name": "Python 3 (ipykernel)",
   "language": "python",
   "name": "python3"
  },
  "language_info": {
   "codemirror_mode": {
    "name": "ipython",
    "version": 3
   },
   "file_extension": ".py",
   "mimetype": "text/x-python",
   "name": "python",
   "nbconvert_exporter": "python",
   "pygments_lexer": "ipython3",
   "version": "3.10.9"
  }
 },
 "nbformat": 4,
 "nbformat_minor": 5
}
